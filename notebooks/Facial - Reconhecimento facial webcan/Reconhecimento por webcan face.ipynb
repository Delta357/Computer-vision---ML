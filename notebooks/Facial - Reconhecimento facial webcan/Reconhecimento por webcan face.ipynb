{
 "cells": [
  {
   "cell_type": "code",
   "execution_count": null,
   "id": "4e3c7217",
   "metadata": {},
   "outputs": [],
   "source": [
    "import cv2"
   ]
  },
  {
   "cell_type": "code",
   "execution_count": null,
   "id": "2c7f8417",
   "metadata": {},
   "outputs": [],
   "source": [
    "video = cv2.VideoCapture(0)\n",
    "face_classifier = cv2.CascadeClassifier('cascades\\\\haarcascade_frontalface_default.xml')"
   ]
  },
  {
   "cell_type": "code",
   "execution_count": null,
   "id": "10754be0",
   "metadata": {},
   "outputs": [],
   "source": [
    "while True:\n",
    "    conect, frame = video.read()\n",
    "        \n",
    "    fame_cinza = cv2.cvtColor(frame, cv2.COLOR_BGR2GRAY)\n",
    "    face_dect = face_classifier.detectMultiScale(fame_cinza, minSize=(70, 70))\n",
    "    \n",
    "    for (x, y, l, a) in face_dect:\n",
    "        cv2.rectangle(frame, (x, y), (x + l, y + a), (0, 0, 255), 2)\n",
    "    cv2.imshow(\"Video\", frame)\n",
    "    \n",
    "    if cv2.waitKey(1) == ord(\"q\"):\n",
    "        break\n",
    "        \n",
    "video.release()\n",
    "cv2.destroyAllWindows()"
   ]
  },
  {
   "cell_type": "code",
   "execution_count": null,
   "id": "67d88b6a",
   "metadata": {},
   "outputs": [],
   "source": []
  }
 ],
 "metadata": {
  "kernelspec": {
   "display_name": "Python 3",
   "language": "python",
   "name": "python3"
  },
  "language_info": {
   "codemirror_mode": {
    "name": "ipython",
    "version": 3
   },
   "file_extension": ".py",
   "mimetype": "text/x-python",
   "name": "python",
   "nbconvert_exporter": "python",
   "pygments_lexer": "ipython3",
   "version": "3.7.4"
  }
 },
 "nbformat": 4,
 "nbformat_minor": 5
}
